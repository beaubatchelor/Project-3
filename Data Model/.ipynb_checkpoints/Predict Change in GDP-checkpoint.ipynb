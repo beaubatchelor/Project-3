{
 "cells": [
  {
   "cell_type": "code",
   "execution_count": 1,
   "metadata": {},
   "outputs": [],
   "source": [
    "import pandas as pd\n",
    "\n",
    "data = pd.read_csv(\"../Scrappers/EconomicIndicators.csv\")"
   ]
  },
  {
   "cell_type": "code",
   "execution_count": 2,
   "metadata": {},
   "outputs": [
    {
     "data": {
      "text/html": [
       "<div>\n",
       "<style scoped>\n",
       "    .dataframe tbody tr th:only-of-type {\n",
       "        vertical-align: middle;\n",
       "    }\n",
       "\n",
       "    .dataframe tbody tr th {\n",
       "        vertical-align: top;\n",
       "    }\n",
       "\n",
       "    .dataframe thead th {\n",
       "        text-align: right;\n",
       "    }\n",
       "</style>\n",
       "<table border=\"1\" class=\"dataframe\">\n",
       "  <thead>\n",
       "    <tr style=\"text-align: right;\">\n",
       "      <th></th>\n",
       "      <th>Date</th>\n",
       "      <th>Contraction</th>\n",
       "      <th>Unemployment</th>\n",
       "      <th>Yield Spread</th>\n",
       "      <th>GDP pct change</th>\n",
       "    </tr>\n",
       "  </thead>\n",
       "  <tbody>\n",
       "    <tr>\n",
       "      <th>0</th>\n",
       "      <td>1953-04-01</td>\n",
       "      <td>0.0</td>\n",
       "      <td>2.6</td>\n",
       "      <td>0.57</td>\n",
       "      <td>0.772984</td>\n",
       "    </tr>\n",
       "    <tr>\n",
       "      <th>1</th>\n",
       "      <td>1953-07-01</td>\n",
       "      <td>1.0</td>\n",
       "      <td>2.7</td>\n",
       "      <td>0.63</td>\n",
       "      <td>-0.562694</td>\n",
       "    </tr>\n",
       "    <tr>\n",
       "      <th>2</th>\n",
       "      <td>1953-10-01</td>\n",
       "      <td>1.0</td>\n",
       "      <td>3.7</td>\n",
       "      <td>0.93</td>\n",
       "      <td>-1.513976</td>\n",
       "    </tr>\n",
       "    <tr>\n",
       "      <th>3</th>\n",
       "      <td>1954-01-01</td>\n",
       "      <td>1.0</td>\n",
       "      <td>5.3</td>\n",
       "      <td>1.21</td>\n",
       "      <td>-0.478013</td>\n",
       "    </tr>\n",
       "    <tr>\n",
       "      <th>4</th>\n",
       "      <td>1954-04-01</td>\n",
       "      <td>1.0</td>\n",
       "      <td>5.8</td>\n",
       "      <td>1.47</td>\n",
       "      <td>0.108991</td>\n",
       "    </tr>\n",
       "  </tbody>\n",
       "</table>\n",
       "</div>"
      ],
      "text/plain": [
       "         Date  Contraction  Unemployment  Yield Spread  GDP pct change\n",
       "0  1953-04-01          0.0           2.6          0.57        0.772984\n",
       "1  1953-07-01          1.0           2.7          0.63       -0.562694\n",
       "2  1953-10-01          1.0           3.7          0.93       -1.513976\n",
       "3  1954-01-01          1.0           5.3          1.21       -0.478013\n",
       "4  1954-04-01          1.0           5.8          1.47        0.108991"
      ]
     },
     "execution_count": 2,
     "metadata": {},
     "output_type": "execute_result"
    }
   ],
   "source": [
    "data.head()"
   ]
  },
  {
   "cell_type": "code",
   "execution_count": 3,
   "metadata": {},
   "outputs": [
    {
     "name": "stderr",
     "output_type": "stream",
     "text": [
      "C:\\Users\\Julie\\Anaconda3\\envs\\PythonData3\\lib\\site-packages\\h5py\\__init__.py:36: FutureWarning: Conversion of the second argument of issubdtype from `float` to `np.floating` is deprecated. In future, it will be treated as `np.float64 == np.dtype(float).type`.\n",
      "  from ._conv import register_converters as _register_converters\n",
      "Using TensorFlow backend.\n"
     ]
    },
    {
     "data": {
      "text/plain": [
       "(256, 5)"
      ]
     },
     "execution_count": 3,
     "metadata": {},
     "output_type": "execute_result"
    }
   ],
   "source": [
    "from sklearn.preprocessing import MinMaxScaler\n",
    "from keras.models import Sequential\n",
    "from keras.layers import Dense, Dropout, LSTM\n",
    "\n",
    "data.shape"
   ]
  },
  {
   "cell_type": "code",
   "execution_count": 4,
   "metadata": {},
   "outputs": [],
   "source": [
    "data[\"GDP pct change\"] = data[\"GDP pct change\"]\n",
    "GDPchange=data.drop([\"Date\", \"Contraction\", \"Unemployment\", \"Yield Spread\"], axis = 1)\n",
    "data_list = GDPchange.values\n",
    "train = data_list[0:192,:]\n",
    "test = data_list[192:,:]"
   ]
  },
  {
   "cell_type": "code",
   "execution_count": 5,
   "metadata": {
    "scrolled": true
   },
   "outputs": [],
   "source": [
    "scaler =MinMaxScaler(feature_range=(0,1))\n",
    "scaled_data = scaler.fit_transform(data_list)"
   ]
  },
  {
   "cell_type": "code",
   "execution_count": 6,
   "metadata": {},
   "outputs": [],
   "source": [
    "x_train = []\n",
    "y_train = []\n",
    "\n",
    "sequence_length = 60\n",
    "\n",
    "for i in range(0, len(train) - sequence_length):\n",
    "    x_train.append(scaled_data[i: i + sequence_length])\n",
    "    y_train.append(scaled_data[i + sequence_length])"
   ]
  },
  {
   "cell_type": "code",
   "execution_count": 7,
   "metadata": {},
   "outputs": [
    {
     "data": {
      "text/plain": [
       "(132, 60, 1)"
      ]
     },
     "execution_count": 7,
     "metadata": {},
     "output_type": "execute_result"
    }
   ],
   "source": [
    "import numpy as np\n",
    "\n",
    "x_train, y_train = np.array(x_train), np.array(y_train)\n",
    "\n",
    "x_train = np.reshape(x_train, (x_train.shape[0],x_train.shape[1],1))\n",
    "\n",
    "x_train.shape"
   ]
  },
  {
   "cell_type": "code",
   "execution_count": 8,
   "metadata": {},
   "outputs": [
    {
     "name": "stdout",
     "output_type": "stream",
     "text": [
      "Epoch 1/5\n",
      " - 10s - loss: 0.0284\n",
      "Epoch 2/5\n",
      " - 7s - loss: 0.0217\n",
      "Epoch 3/5\n",
      " - 7s - loss: 0.0216\n",
      "Epoch 4/5\n",
      " - 8s - loss: 0.0196\n",
      "Epoch 5/5\n",
      " - 8s - loss: 0.0209\n"
     ]
    },
    {
     "data": {
      "text/plain": [
       "<keras.callbacks.History at 0x1ee13cb40b8>"
      ]
     },
     "execution_count": 8,
     "metadata": {},
     "output_type": "execute_result"
    }
   ],
   "source": [
    "model = Sequential()\n",
    "model.add(LSTM(units=50, return_sequences=True, input_shape=(x_train.shape[1],1)))\n",
    "model.add(LSTM(units=50))\n",
    "model.add(Dense(1))\n",
    "\n",
    "model.compile(loss='mean_squared_error', optimizer='adam')\n",
    "model.fit(x_train, y_train, epochs=5, batch_size=1, verbose=2)"
   ]
  },
  {
   "cell_type": "code",
   "execution_count": 9,
   "metadata": {},
   "outputs": [
    {
     "data": {
      "text/plain": [
       "64"
      ]
     },
     "execution_count": 9,
     "metadata": {},
     "output_type": "execute_result"
    }
   ],
   "source": [
    "\n",
    "inputs = GDPchange[len(GDPchange) - len(test) - sequence_length:].values\n",
    "inputs = inputs.reshape(-1,1)\n",
    "inputs = scaler.transform(inputs)\n",
    "inputs.shape\n",
    "len(GDPchange)\n",
    "len(test)"
   ]
  },
  {
   "cell_type": "code",
   "execution_count": 19,
   "metadata": {},
   "outputs": [
    {
     "data": {
      "text/plain": [
       "array([[0.50139534],\n",
       "       [0.4968451 ],\n",
       "       [0.48706695],\n",
       "       [0.48272884],\n",
       "       [0.485539  ],\n",
       "       [0.48801363],\n",
       "       [0.48869196],\n",
       "       [0.4862655 ],\n",
       "       [0.48636827],\n",
       "       [0.48963675],\n",
       "       [0.50011516],\n",
       "       [0.5067459 ],\n",
       "       [0.5062721 ],\n",
       "       [0.505438  ],\n",
       "       [0.5060262 ],\n",
       "       [0.5074599 ],\n",
       "       [0.50983167],\n",
       "       [0.507009  ],\n",
       "       [0.5065002 ],\n",
       "       [0.504676  ],\n",
       "       [0.5083802 ],\n",
       "       [0.5044494 ],\n",
       "       [0.4982067 ],\n",
       "       [0.49770993],\n",
       "       [0.49413416],\n",
       "       [0.49293122],\n",
       "       [0.49236682],\n",
       "       [0.4926176 ],\n",
       "       [0.48354396],\n",
       "       [0.48168316],\n",
       "       [0.4737219 ],\n",
       "       [0.45188236],\n",
       "       [0.43700898],\n",
       "       [0.4344755 ],\n",
       "       [0.44062728],\n",
       "       [0.45471993],\n",
       "       [0.46329838],\n",
       "       [0.473075  ],\n",
       "       [0.48003334],\n",
       "       [0.48308358],\n",
       "       [0.47839934],\n",
       "       [0.47972164],\n",
       "       [0.47671792],\n",
       "       [0.48255894],\n",
       "       [0.4872393 ],\n",
       "       [0.48812205],\n",
       "       [0.48530015],\n",
       "       [0.48156205],\n",
       "       [0.48434693],\n",
       "       [0.482642  ],\n",
       "       [0.48521024],\n",
       "       [0.4887957 ],\n",
       "       [0.48373717],\n",
       "       [0.48888582],\n",
       "       [0.49597245],\n",
       "       [0.49675784],\n",
       "       [0.49828693],\n",
       "       [0.4997508 ],\n",
       "       [0.49631622],\n",
       "       [0.49078676],\n",
       "       [0.4877176 ],\n",
       "       [0.48737055],\n",
       "       [0.48728043],\n",
       "       [0.48698762]], dtype=float32)"
      ]
     },
     "execution_count": 19,
     "metadata": {},
     "output_type": "execute_result"
    }
   ],
   "source": [
    "x_test = []\n",
    "for i in range(sequence_length,inputs.shape[0]):\n",
    "    x_test.append(inputs[i-sequence_length:i,0])\n",
    "x_test = np.array(x_test)\n",
    "\n",
    "x_test = np.reshape(x_test, (x_test.shape[0], x_test.shape[1],1))\n",
    "GDP_pct_change = model.predict(x_test)\n",
    "GDP_pct_change\n"
   ]
  },
  {
   "cell_type": "code",
   "execution_count": 11,
   "metadata": {},
   "outputs": [],
   "source": [
    "GDP_pct_change = scaler.inverse_transform(GDP_pct_change)"
   ]
  },
  {
   "cell_type": "code",
   "execution_count": 12,
   "metadata": {},
   "outputs": [
    {
     "data": {
      "text/plain": [
       "array([[0.6432158 ],\n",
       "       [0.6138207 ],\n",
       "       [0.5506529 ],\n",
       "       [0.5226283 ],\n",
       "       [0.54078215],\n",
       "       [0.55676854],\n",
       "       [0.5611506 ],\n",
       "       [0.54547554],\n",
       "       [0.54613936],\n",
       "       [0.56725407],\n",
       "       [0.63494563],\n",
       "       [0.6777807 ],\n",
       "       [0.6747199 ],\n",
       "       [0.6693319 ],\n",
       "       [0.6731316 ],\n",
       "       [0.68239325],\n",
       "       [0.6977152 ],\n",
       "       [0.67948073],\n",
       "       [0.67619354],\n",
       "       [0.664409  ],\n",
       "       [0.68833846],\n",
       "       [0.66294545],\n",
       "       [0.6226168 ],\n",
       "       [0.6194076 ],\n",
       "       [0.59630775],\n",
       "       [0.5885367 ],\n",
       "       [0.5848906 ],\n",
       "       [0.5865107 ],\n",
       "       [0.5278941 ],\n",
       "       [0.51587313],\n",
       "       [0.46444252],\n",
       "       [0.32335705],\n",
       "       [0.22727351],\n",
       "       [0.21090707],\n",
       "       [0.25064808],\n",
       "       [0.341688  ],\n",
       "       [0.39710563],\n",
       "       [0.46026355],\n",
       "       [0.5052151 ],\n",
       "       [0.5249199 ],\n",
       "       [0.49465927],\n",
       "       [0.5032015 ],\n",
       "       [0.48379716],\n",
       "       [0.5215307 ],\n",
       "       [0.55176634],\n",
       "       [0.55746895],\n",
       "       [0.5392392 ],\n",
       "       [0.5150907 ],\n",
       "       [0.5330813 ],\n",
       "       [0.52206725],\n",
       "       [0.5386584 ],\n",
       "       [0.5618208 ],\n",
       "       [0.5291422 ],\n",
       "       [0.56240296],\n",
       "       [0.6081833 ],\n",
       "       [0.613257  ],\n",
       "       [0.6231351 ],\n",
       "       [0.6325918 ],\n",
       "       [0.61040413],\n",
       "       [0.57468325],\n",
       "       [0.5548562 ],\n",
       "       [0.5526142 ],\n",
       "       [0.552032  ],\n",
       "       [0.55014044]], dtype=float32)"
      ]
     },
     "execution_count": 12,
     "metadata": {},
     "output_type": "execute_result"
    }
   ],
   "source": [
    "GDP_pct_change"
   ]
  },
  {
   "cell_type": "code",
   "execution_count": 13,
   "metadata": {},
   "outputs": [],
   "source": [
    "last_64=pd.DataFrame()"
   ]
  },
  {
   "cell_type": "code",
   "execution_count": 20,
   "metadata": {},
   "outputs": [
    {
     "data": {
      "text/plain": [
       "(64, 1)"
      ]
     },
     "execution_count": 20,
     "metadata": {},
     "output_type": "execute_result"
    }
   ],
   "source": [
    "last_64[\"Observed\"] = GDPchange[\"GDP pct change\"][192:]\n",
    "last_64.shape\n",
    "GDP_pct_change.shape"
   ]
  },
  {
   "cell_type": "code",
   "execution_count": 15,
   "metadata": {
    "scrolled": true
   },
   "outputs": [],
   "source": [
    "last_64[\"Date\"] = data[\"Date\"][192:256]\n",
    "\n",
    "last_64[\"Predicted\"] = GDP_pct_change"
   ]
  },
  {
   "cell_type": "code",
   "execution_count": 18,
   "metadata": {},
   "outputs": [
    {
     "data": {
      "image/png": "[encoded data removed]",
      "text/plain": [
       "<Figure size 432x288 with 1 Axes>"
      ]
     },
     "metadata": {},
     "output_type": "display_data"
    }
   ],
   "source": [
    "import matplotlib.pyplot as plt\n",
    "\n",
    "#plt.plot(data[\"GDP pct change\"][0:192])\n",
    "plt.plot(last_64[['Predicted','Observed']])\n",
    "plt.show()"
   ]
  },
  {
   "cell_type": "code",
   "execution_count": null,
   "metadata": {},
   "outputs": [],
   "source": []
  }
 ],
 "metadata": {
  "kernelspec": {
   "display_name": "Python [conda env:PythonData3]",
   "language": "python",
   "name": "conda-env-PythonData3-py"
  },
  "language_info": {
   "codemirror_mode": {
    "name": "ipython",
    "version": 3
   },
   "file_extension": ".py",
   "mimetype": "text/x-python",
   "name": "python",
   "nbconvert_exporter": "python",
   "pygments_lexer": "ipython3",
   "version": "3.6.5"
  }
 },
 "nbformat": 4,
 "nbformat_minor": 2
}
