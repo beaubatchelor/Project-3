{
 "cells": [
  {
   "cell_type": "code",
   "execution_count": 1,
   "metadata": {},
   "outputs": [],
   "source": [
    "import matplotlib.pyplot as plt\n",
    "from sklearn.neighbors import KNeighborsClassifier\n",
    "import pandas as pd\n",
    "import numpy as np\n",
    "import os"
   ]
  },
  {
   "cell_type": "code",
   "execution_count": 2,
   "metadata": {},
   "outputs": [
    {
     "data": {
      "text/html": [
       "<div>\n",
       "<style scoped>\n",
       "    .dataframe tbody tr th:only-of-type {\n",
       "        vertical-align: middle;\n",
       "    }\n",
       "\n",
       "    .dataframe tbody tr th {\n",
       "        vertical-align: top;\n",
       "    }\n",
       "\n",
       "    .dataframe thead th {\n",
       "        text-align: right;\n",
       "    }\n",
       "</style>\n",
       "<table border=\"1\" class=\"dataframe\">\n",
       "  <thead>\n",
       "    <tr style=\"text-align: right;\">\n",
       "      <th></th>\n",
       "      <th>date</th>\n",
       "      <th>consumer_sentiment</th>\n",
       "      <th>copper_price</th>\n",
       "      <th>deficit</th>\n",
       "      <th>velocity</th>\n",
       "      <th>oil_inv</th>\n",
       "      <th>Contraction</th>\n",
       "      <th>Unemployment</th>\n",
       "      <th>One Year Bond</th>\n",
       "      <th>Ten Year Bond</th>\n",
       "      <th>GDP</th>\n",
       "      <th>Discount Rate</th>\n",
       "    </tr>\n",
       "  </thead>\n",
       "  <tbody>\n",
       "    <tr>\n",
       "      <th>0</th>\n",
       "      <td>1960-04-01</td>\n",
       "      <td>93.3</td>\n",
       "      <td>0.311057</td>\n",
       "      <td>301.0</td>\n",
       "      <td>1.797</td>\n",
       "      <td>31613</td>\n",
       "      <td>1.0</td>\n",
       "      <td>5.2</td>\n",
       "      <td>3.87</td>\n",
       "      <td>4.26</td>\n",
       "      <td>3258.088</td>\n",
       "      <td>3.88</td>\n",
       "    </tr>\n",
       "    <tr>\n",
       "      <th>1</th>\n",
       "      <td>1960-07-01</td>\n",
       "      <td>97.2</td>\n",
       "      <td>0.303747</td>\n",
       "      <td>301.0</td>\n",
       "      <td>1.780</td>\n",
       "      <td>31613</td>\n",
       "      <td>1.0</td>\n",
       "      <td>5.5</td>\n",
       "      <td>3.07</td>\n",
       "      <td>3.83</td>\n",
       "      <td>3274.029</td>\n",
       "      <td>3.23</td>\n",
       "    </tr>\n",
       "    <tr>\n",
       "      <th>2</th>\n",
       "      <td>1960-10-01</td>\n",
       "      <td>90.1</td>\n",
       "      <td>0.282263</td>\n",
       "      <td>301.0</td>\n",
       "      <td>1.737</td>\n",
       "      <td>31613</td>\n",
       "      <td>1.0</td>\n",
       "      <td>6.3</td>\n",
       "      <td>2.99</td>\n",
       "      <td>3.89</td>\n",
       "      <td>3232.009</td>\n",
       "      <td>3.00</td>\n",
       "    </tr>\n",
       "    <tr>\n",
       "      <th>3</th>\n",
       "      <td>1961-01-01</td>\n",
       "      <td>91.6</td>\n",
       "      <td>0.281681</td>\n",
       "      <td>-3335.0</td>\n",
       "      <td>1.723</td>\n",
       "      <td>31759</td>\n",
       "      <td>0.0</td>\n",
       "      <td>6.8</td>\n",
       "      <td>2.87</td>\n",
       "      <td>3.79</td>\n",
       "      <td>3253.826</td>\n",
       "      <td>3.00</td>\n",
       "    </tr>\n",
       "    <tr>\n",
       "      <th>4</th>\n",
       "      <td>1961-04-01</td>\n",
       "      <td>92.5</td>\n",
       "      <td>0.306175</td>\n",
       "      <td>-3335.0</td>\n",
       "      <td>1.724</td>\n",
       "      <td>31759</td>\n",
       "      <td>0.0</td>\n",
       "      <td>7.0</td>\n",
       "      <td>2.94</td>\n",
       "      <td>3.79</td>\n",
       "      <td>3309.059</td>\n",
       "      <td>3.00</td>\n",
       "    </tr>\n",
       "  </tbody>\n",
       "</table>\n",
       "</div>"
      ],
      "text/plain": [
       "         date  consumer_sentiment  copper_price  deficit  velocity  oil_inv  \\\n",
       "0  1960-04-01                93.3      0.311057    301.0     1.797    31613   \n",
       "1  1960-07-01                97.2      0.303747    301.0     1.780    31613   \n",
       "2  1960-10-01                90.1      0.282263    301.0     1.737    31613   \n",
       "3  1961-01-01                91.6      0.281681  -3335.0     1.723    31759   \n",
       "4  1961-04-01                92.5      0.306175  -3335.0     1.724    31759   \n",
       "\n",
       "   Contraction  Unemployment  One Year Bond  Ten Year Bond       GDP  \\\n",
       "0          1.0           5.2           3.87           4.26  3258.088   \n",
       "1          1.0           5.5           3.07           3.83  3274.029   \n",
       "2          1.0           6.3           2.99           3.89  3232.009   \n",
       "3          0.0           6.8           2.87           3.79  3253.826   \n",
       "4          0.0           7.0           2.94           3.79  3309.059   \n",
       "\n",
       "   Discount Rate  \n",
       "0           3.88  \n",
       "1           3.23  \n",
       "2           3.00  \n",
       "3           3.00  \n",
       "4           3.00  "
      ]
     },
     "execution_count": 2,
     "metadata": {},
     "output_type": "execute_result"
    }
   ],
   "source": [
    "combined_df = pd.read_csv(filepath_or_buffer = '../data/combined_df.csv')\n",
    "combined_df.head()"
   ]
  },
  {
   "cell_type": "code",
   "execution_count": 6,
   "metadata": {},
   "outputs": [],
   "source": [
    "target = combined_df[\"Contraction\"]\n",
    "target_names = [\"expansion\", \"recession\"]"
   ]
  },
  {
   "cell_type": "code",
   "execution_count": 4,
   "metadata": {},
   "outputs": [
    {
     "data": {
      "text/html": [
       "<div>\n",
       "<style scoped>\n",
       "    .dataframe tbody tr th:only-of-type {\n",
       "        vertical-align: middle;\n",
       "    }\n",
       "\n",
       "    .dataframe tbody tr th {\n",
       "        vertical-align: top;\n",
       "    }\n",
       "\n",
       "    .dataframe thead th {\n",
       "        text-align: right;\n",
       "    }\n",
       "</style>\n",
       "<table border=\"1\" class=\"dataframe\">\n",
       "  <thead>\n",
       "    <tr style=\"text-align: right;\">\n",
       "      <th></th>\n",
       "      <th>consumer_sentiment</th>\n",
       "      <th>copper_price</th>\n",
       "      <th>deficit</th>\n",
       "      <th>velocity</th>\n",
       "      <th>oil_inv</th>\n",
       "    </tr>\n",
       "  </thead>\n",
       "  <tbody>\n",
       "    <tr>\n",
       "      <th>0</th>\n",
       "      <td>93.3</td>\n",
       "      <td>0.311057</td>\n",
       "      <td>301.0</td>\n",
       "      <td>1.797</td>\n",
       "      <td>31613</td>\n",
       "    </tr>\n",
       "    <tr>\n",
       "      <th>1</th>\n",
       "      <td>97.2</td>\n",
       "      <td>0.303747</td>\n",
       "      <td>301.0</td>\n",
       "      <td>1.780</td>\n",
       "      <td>31613</td>\n",
       "    </tr>\n",
       "    <tr>\n",
       "      <th>2</th>\n",
       "      <td>90.1</td>\n",
       "      <td>0.282263</td>\n",
       "      <td>301.0</td>\n",
       "      <td>1.737</td>\n",
       "      <td>31613</td>\n",
       "    </tr>\n",
       "    <tr>\n",
       "      <th>3</th>\n",
       "      <td>91.6</td>\n",
       "      <td>0.281681</td>\n",
       "      <td>-3335.0</td>\n",
       "      <td>1.723</td>\n",
       "      <td>31759</td>\n",
       "    </tr>\n",
       "    <tr>\n",
       "      <th>4</th>\n",
       "      <td>92.5</td>\n",
       "      <td>0.306175</td>\n",
       "      <td>-3335.0</td>\n",
       "      <td>1.724</td>\n",
       "      <td>31759</td>\n",
       "    </tr>\n",
       "  </tbody>\n",
       "</table>\n",
       "</div>"
      ],
      "text/plain": [
       "   consumer_sentiment  copper_price  deficit  velocity  oil_inv\n",
       "0                93.3      0.311057    301.0     1.797    31613\n",
       "1                97.2      0.303747    301.0     1.780    31613\n",
       "2                90.1      0.282263    301.0     1.737    31613\n",
       "3                91.6      0.281681  -3335.0     1.723    31759\n",
       "4                92.5      0.306175  -3335.0     1.724    31759"
      ]
     },
     "execution_count": 4,
     "metadata": {},
     "output_type": "execute_result"
    }
   ],
   "source": [
    "# data = combined_df.drop([\"Contraction\", 'date', 'Unemployment', 'One Year Bond', 'GDP', 'Discount Rate', 'Ten Year Bond'], axis=1)\n",
    "# feature_names = data.columns\n",
    "# data.head()"
   ]
  },
  {
   "cell_type": "code",
   "execution_count": 11,
   "metadata": {},
   "outputs": [
    {
     "data": {
      "text/html": [
       "<div>\n",
       "<style scoped>\n",
       "    .dataframe tbody tr th:only-of-type {\n",
       "        vertical-align: middle;\n",
       "    }\n",
       "\n",
       "    .dataframe tbody tr th {\n",
       "        vertical-align: top;\n",
       "    }\n",
       "\n",
       "    .dataframe thead th {\n",
       "        text-align: right;\n",
       "    }\n",
       "</style>\n",
       "<table border=\"1\" class=\"dataframe\">\n",
       "  <thead>\n",
       "    <tr style=\"text-align: right;\">\n",
       "      <th></th>\n",
       "      <th>Unemployment</th>\n",
       "      <th>One Year Bond</th>\n",
       "      <th>Ten Year Bond</th>\n",
       "      <th>GDP</th>\n",
       "      <th>Discount Rate</th>\n",
       "    </tr>\n",
       "  </thead>\n",
       "  <tbody>\n",
       "    <tr>\n",
       "      <th>0</th>\n",
       "      <td>5.2</td>\n",
       "      <td>3.87</td>\n",
       "      <td>4.26</td>\n",
       "      <td>3258.088</td>\n",
       "      <td>3.88</td>\n",
       "    </tr>\n",
       "    <tr>\n",
       "      <th>1</th>\n",
       "      <td>5.5</td>\n",
       "      <td>3.07</td>\n",
       "      <td>3.83</td>\n",
       "      <td>3274.029</td>\n",
       "      <td>3.23</td>\n",
       "    </tr>\n",
       "    <tr>\n",
       "      <th>2</th>\n",
       "      <td>6.3</td>\n",
       "      <td>2.99</td>\n",
       "      <td>3.89</td>\n",
       "      <td>3232.009</td>\n",
       "      <td>3.00</td>\n",
       "    </tr>\n",
       "    <tr>\n",
       "      <th>3</th>\n",
       "      <td>6.8</td>\n",
       "      <td>2.87</td>\n",
       "      <td>3.79</td>\n",
       "      <td>3253.826</td>\n",
       "      <td>3.00</td>\n",
       "    </tr>\n",
       "    <tr>\n",
       "      <th>4</th>\n",
       "      <td>7.0</td>\n",
       "      <td>2.94</td>\n",
       "      <td>3.79</td>\n",
       "      <td>3309.059</td>\n",
       "      <td>3.00</td>\n",
       "    </tr>\n",
       "  </tbody>\n",
       "</table>\n",
       "</div>"
      ],
      "text/plain": [
       "   Unemployment  One Year Bond  Ten Year Bond       GDP  Discount Rate\n",
       "0           5.2           3.87           4.26  3258.088           3.88\n",
       "1           5.5           3.07           3.83  3274.029           3.23\n",
       "2           6.3           2.99           3.89  3232.009           3.00\n",
       "3           6.8           2.87           3.79  3253.826           3.00\n",
       "4           7.0           2.94           3.79  3309.059           3.00"
      ]
     },
     "execution_count": 11,
     "metadata": {},
     "output_type": "execute_result"
    }
   ],
   "source": [
    "data = combined_df.drop([\"Contraction\", 'date', 'consumer_sentiment', 'copper_price', 'deficit', 'velocity', 'oil_inv'], axis=1)\n",
    "feature_names = data.columns\n",
    "data.head()"
   ]
  },
  {
   "cell_type": "code",
   "execution_count": 12,
   "metadata": {},
   "outputs": [],
   "source": [
    "from sklearn.model_selection import train_test_split\n",
    "X_train, X_test, y_train, y_test = train_test_split(data, target, random_state=42)"
   ]
  },
  {
   "cell_type": "code",
   "execution_count": 13,
   "metadata": {},
   "outputs": [
    {
     "data": {
      "text/plain": [
       "SVC(C=1.0, cache_size=200, class_weight=None, coef0=0.0,\n",
       "  decision_function_shape='ovr', degree=3, gamma='auto_deprecated',\n",
       "  kernel='linear', max_iter=-1, probability=False, random_state=None,\n",
       "  shrinking=True, tol=0.001, verbose=False)"
      ]
     },
     "execution_count": 13,
     "metadata": {},
     "output_type": "execute_result"
    }
   ],
   "source": [
    "from sklearn.svm import SVC \n",
    "model = SVC(kernel='linear')\n",
    "model.fit(X_train, y_train)"
   ]
  },
  {
   "cell_type": "code",
   "execution_count": null,
   "metadata": {},
   "outputs": [],
   "source": [
    "# from sklearn.model_selection import GridSearchCV\n",
    "# param_grid = {'C': [1, 5, 10, 50],\n",
    "#               'gamma': [0.0001, 0.0005, 0.001, 0.005]}\n",
    "# grid = GridSearchCV(model, param_grid, verbose=2)"
   ]
  },
  {
   "cell_type": "code",
   "execution_count": null,
   "metadata": {
    "scrolled": true
   },
   "outputs": [],
   "source": [
    "# grid.fit(X_train, y_train)"
   ]
  },
  {
   "cell_type": "code",
   "execution_count": null,
   "metadata": {},
   "outputs": [],
   "source": [
    "# print(grid.best_score_)"
   ]
  },
  {
   "cell_type": "code",
   "execution_count": 14,
   "metadata": {},
   "outputs": [
    {
     "name": "stdout",
     "output_type": "stream",
     "text": [
      "Test Acc: 0.877\n"
     ]
    }
   ],
   "source": [
    "print('Test Acc: %.3f' % model.score(X_test, y_test))"
   ]
  },
  {
   "cell_type": "code",
   "execution_count": 15,
   "metadata": {},
   "outputs": [
    {
     "name": "stdout",
     "output_type": "stream",
     "text": [
      "              precision    recall  f1-score   support\n",
      "\n",
      "   expansion       0.89      0.98      0.93        48\n",
      "   recession       0.75      0.33      0.46         9\n",
      "\n",
      "   micro avg       0.88      0.88      0.88        57\n",
      "   macro avg       0.82      0.66      0.70        57\n",
      "weighted avg       0.87      0.88      0.86        57\n",
      "\n"
     ]
    }
   ],
   "source": [
    "from sklearn.metrics import classification_report\n",
    "predictions = model.predict(X_test)\n",
    "print(classification_report(y_test, predictions,\n",
    "                            target_names=target_names))"
   ]
  },
  {
   "cell_type": "code",
   "execution_count": null,
   "metadata": {},
   "outputs": [],
   "source": []
  }
 ],
 "metadata": {
  "kernelspec": {
   "display_name": "Python 3",
   "language": "python",
   "name": "python3"
  },
  "language_info": {
   "codemirror_mode": {
    "name": "ipython",
    "version": 3
   },
   "file_extension": ".py",
   "mimetype": "text/x-python",
   "name": "python",
   "nbconvert_exporter": "python",
   "pygments_lexer": "ipython3",
   "version": "3.7.1"
  }
 },
 "nbformat": 4,
 "nbformat_minor": 2
}
