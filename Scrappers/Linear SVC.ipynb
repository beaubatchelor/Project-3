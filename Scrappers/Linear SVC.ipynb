{
 "cells": [
  {
   "cell_type": "code",
   "execution_count": 1,
   "metadata": {},
   "outputs": [],
   "source": [
    "import matplotlib.pyplot as plt\n",
    "from sklearn.neighbors import KNeighborsClassifier\n",
    "import pandas as pd\n",
    "import numpy as np\n",
    "import os"
   ]
  },
  {
   "cell_type": "code",
   "execution_count": 2,
   "metadata": {},
   "outputs": [
    {
     "data": {
      "text/html": [
       "<div>\n",
       "<style scoped>\n",
       "    .dataframe tbody tr th:only-of-type {\n",
       "        vertical-align: middle;\n",
       "    }\n",
       "\n",
       "    .dataframe tbody tr th {\n",
       "        vertical-align: top;\n",
       "    }\n",
       "\n",
       "    .dataframe thead th {\n",
       "        text-align: right;\n",
       "    }\n",
       "</style>\n",
       "<table border=\"1\" class=\"dataframe\">\n",
       "  <thead>\n",
       "    <tr style=\"text-align: right;\">\n",
       "      <th></th>\n",
       "      <th>date</th>\n",
       "      <th>consumer_sentiment</th>\n",
       "      <th>copper_price</th>\n",
       "      <th>deficit</th>\n",
       "      <th>velocity</th>\n",
       "      <th>oil_inv</th>\n",
       "    </tr>\n",
       "  </thead>\n",
       "  <tbody>\n",
       "    <tr>\n",
       "      <th>0</th>\n",
       "      <td>1959-10-01</td>\n",
       "      <td>93.8</td>\n",
       "      <td>0.331147</td>\n",
       "      <td>-12849.0</td>\n",
       "      <td>1.779</td>\n",
       "      <td>31719</td>\n",
       "    </tr>\n",
       "    <tr>\n",
       "      <th>1</th>\n",
       "      <td>1960-01-01</td>\n",
       "      <td>100.0</td>\n",
       "      <td>0.320317</td>\n",
       "      <td>301.0</td>\n",
       "      <td>1.817</td>\n",
       "      <td>31613</td>\n",
       "    </tr>\n",
       "    <tr>\n",
       "      <th>2</th>\n",
       "      <td>1960-04-01</td>\n",
       "      <td>93.3</td>\n",
       "      <td>0.311057</td>\n",
       "      <td>301.0</td>\n",
       "      <td>1.797</td>\n",
       "      <td>31613</td>\n",
       "    </tr>\n",
       "    <tr>\n",
       "      <th>3</th>\n",
       "      <td>1960-07-01</td>\n",
       "      <td>97.2</td>\n",
       "      <td>0.303747</td>\n",
       "      <td>301.0</td>\n",
       "      <td>1.780</td>\n",
       "      <td>31613</td>\n",
       "    </tr>\n",
       "    <tr>\n",
       "      <th>4</th>\n",
       "      <td>1960-10-01</td>\n",
       "      <td>90.1</td>\n",
       "      <td>0.282263</td>\n",
       "      <td>301.0</td>\n",
       "      <td>1.737</td>\n",
       "      <td>31613</td>\n",
       "    </tr>\n",
       "  </tbody>\n",
       "</table>\n",
       "</div>"
      ],
      "text/plain": [
       "         date  consumer_sentiment  copper_price  deficit  velocity  oil_inv\n",
       "0  1959-10-01                93.8      0.331147 -12849.0     1.779    31719\n",
       "1  1960-01-01               100.0      0.320317    301.0     1.817    31613\n",
       "2  1960-04-01                93.3      0.311057    301.0     1.797    31613\n",
       "3  1960-07-01                97.2      0.303747    301.0     1.780    31613\n",
       "4  1960-10-01                90.1      0.282263    301.0     1.737    31613"
      ]
     },
     "execution_count": 2,
     "metadata": {},
     "output_type": "execute_result"
    }
   ],
   "source": [
    "combined_df = pd.read_csv(filepath_or_buffer = 'combined_df.csv')\n",
    "combined_df.head()"
   ]
  },
  {
   "cell_type": "code",
   "execution_count": null,
   "metadata": {},
   "outputs": [],
   "source": []
  }
 ],
 "metadata": {
  "kernelspec": {
   "display_name": "Python 3",
   "language": "python",
   "name": "python3"
  },
  "language_info": {
   "codemirror_mode": {
    "name": "ipython",
    "version": 3
   },
   "file_extension": ".py",
   "mimetype": "text/x-python",
   "name": "python",
   "nbconvert_exporter": "python",
   "pygments_lexer": "ipython3",
   "version": "3.7.1"
  }
 },
 "nbformat": 4,
 "nbformat_minor": 2
}
