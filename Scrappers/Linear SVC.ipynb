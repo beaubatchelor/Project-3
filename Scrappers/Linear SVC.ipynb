{
 "cells": [
  {
   "cell_type": "code",
   "execution_count": 1,
   "metadata": {},
   "outputs": [],
   "source": [
    "import matplotlib.pyplot as plt\n",
    "from sklearn.neighbors import KNeighborsClassifier\n",
    "import pandas as pd\n",
    "import numpy as np\n",
    "import os"
   ]
  },
  {
   "cell_type": "code",
   "execution_count": 2,
   "metadata": {},
   "outputs": [
    {
     "data": {
      "text/html": [
       "<div>\n",
       "<style scoped>\n",
       "    .dataframe tbody tr th:only-of-type {\n",
       "        vertical-align: middle;\n",
       "    }\n",
       "\n",
       "    .dataframe tbody tr th {\n",
       "        vertical-align: top;\n",
       "    }\n",
       "\n",
       "    .dataframe thead th {\n",
       "        text-align: right;\n",
       "    }\n",
       "</style>\n",
       "<table border=\"1\" class=\"dataframe\">\n",
       "  <thead>\n",
       "    <tr style=\"text-align: right;\">\n",
       "      <th></th>\n",
       "      <th>date</th>\n",
       "      <th>consumer_sentiment</th>\n",
       "      <th>copper_price</th>\n",
       "      <th>deficit</th>\n",
       "      <th>velocity</th>\n",
       "      <th>oil_inv</th>\n",
       "      <th>recession</th>\n",
       "    </tr>\n",
       "  </thead>\n",
       "  <tbody>\n",
       "    <tr>\n",
       "      <th>0</th>\n",
       "      <td>1967-10-01</td>\n",
       "      <td>92.9</td>\n",
       "      <td>0.580590</td>\n",
       "      <td>-8643.0</td>\n",
       "      <td>1.690</td>\n",
       "      <td>31377</td>\n",
       "      <td>0.0</td>\n",
       "    </tr>\n",
       "    <tr>\n",
       "      <th>1</th>\n",
       "      <td>1968-01-01</td>\n",
       "      <td>97.2</td>\n",
       "      <td>0.669541</td>\n",
       "      <td>-25161.0</td>\n",
       "      <td>1.715</td>\n",
       "      <td>30707</td>\n",
       "      <td>0.0</td>\n",
       "    </tr>\n",
       "    <tr>\n",
       "      <th>2</th>\n",
       "      <td>1968-04-01</td>\n",
       "      <td>92.4</td>\n",
       "      <td>0.475120</td>\n",
       "      <td>-25161.0</td>\n",
       "      <td>1.733</td>\n",
       "      <td>30707</td>\n",
       "      <td>0.0</td>\n",
       "    </tr>\n",
       "    <tr>\n",
       "      <th>3</th>\n",
       "      <td>1968-07-01</td>\n",
       "      <td>92.4</td>\n",
       "      <td>0.452460</td>\n",
       "      <td>-25161.0</td>\n",
       "      <td>1.730</td>\n",
       "      <td>30707</td>\n",
       "      <td>0.0</td>\n",
       "    </tr>\n",
       "    <tr>\n",
       "      <th>4</th>\n",
       "      <td>1968-10-01</td>\n",
       "      <td>91.7</td>\n",
       "      <td>0.482349</td>\n",
       "      <td>-25161.0</td>\n",
       "      <td>1.722</td>\n",
       "      <td>30707</td>\n",
       "      <td>0.0</td>\n",
       "    </tr>\n",
       "  </tbody>\n",
       "</table>\n",
       "</div>"
      ],
      "text/plain": [
       "         date  consumer_sentiment  copper_price  deficit  velocity  oil_inv  \\\n",
       "0  1967-10-01                92.9      0.580590  -8643.0     1.690    31377   \n",
       "1  1968-01-01                97.2      0.669541 -25161.0     1.715    30707   \n",
       "2  1968-04-01                92.4      0.475120 -25161.0     1.733    30707   \n",
       "3  1968-07-01                92.4      0.452460 -25161.0     1.730    30707   \n",
       "4  1968-10-01                91.7      0.482349 -25161.0     1.722    30707   \n",
       "\n",
       "   recession  \n",
       "0        0.0  \n",
       "1        0.0  \n",
       "2        0.0  \n",
       "3        0.0  \n",
       "4        0.0  "
      ]
     },
     "execution_count": 2,
     "metadata": {},
     "output_type": "execute_result"
    }
   ],
   "source": [
    "combined_df = pd.read_csv(filepath_or_buffer = '../data/combined_df.csv')\n",
    "combined_df.head()"
   ]
  },
  {
   "cell_type": "code",
   "execution_count": 3,
   "metadata": {},
   "outputs": [],
   "source": [
    "target = combined_df[\"recession\"]\n",
    "target_names = [\"negative\", \"positive\"]"
   ]
  },
  {
   "cell_type": "code",
   "execution_count": 4,
   "metadata": {},
   "outputs": [
    {
     "data": {
      "text/html": [
       "<div>\n",
       "<style scoped>\n",
       "    .dataframe tbody tr th:only-of-type {\n",
       "        vertical-align: middle;\n",
       "    }\n",
       "\n",
       "    .dataframe tbody tr th {\n",
       "        vertical-align: top;\n",
       "    }\n",
       "\n",
       "    .dataframe thead th {\n",
       "        text-align: right;\n",
       "    }\n",
       "</style>\n",
       "<table border=\"1\" class=\"dataframe\">\n",
       "  <thead>\n",
       "    <tr style=\"text-align: right;\">\n",
       "      <th></th>\n",
       "      <th>consumer_sentiment</th>\n",
       "      <th>copper_price</th>\n",
       "      <th>deficit</th>\n",
       "      <th>velocity</th>\n",
       "      <th>oil_inv</th>\n",
       "    </tr>\n",
       "  </thead>\n",
       "  <tbody>\n",
       "    <tr>\n",
       "      <th>0</th>\n",
       "      <td>92.9</td>\n",
       "      <td>0.580590</td>\n",
       "      <td>-8643.0</td>\n",
       "      <td>1.690</td>\n",
       "      <td>31377</td>\n",
       "    </tr>\n",
       "    <tr>\n",
       "      <th>1</th>\n",
       "      <td>97.2</td>\n",
       "      <td>0.669541</td>\n",
       "      <td>-25161.0</td>\n",
       "      <td>1.715</td>\n",
       "      <td>30707</td>\n",
       "    </tr>\n",
       "    <tr>\n",
       "      <th>2</th>\n",
       "      <td>92.4</td>\n",
       "      <td>0.475120</td>\n",
       "      <td>-25161.0</td>\n",
       "      <td>1.733</td>\n",
       "      <td>30707</td>\n",
       "    </tr>\n",
       "    <tr>\n",
       "      <th>3</th>\n",
       "      <td>92.4</td>\n",
       "      <td>0.452460</td>\n",
       "      <td>-25161.0</td>\n",
       "      <td>1.730</td>\n",
       "      <td>30707</td>\n",
       "    </tr>\n",
       "    <tr>\n",
       "      <th>4</th>\n",
       "      <td>91.7</td>\n",
       "      <td>0.482349</td>\n",
       "      <td>-25161.0</td>\n",
       "      <td>1.722</td>\n",
       "      <td>30707</td>\n",
       "    </tr>\n",
       "  </tbody>\n",
       "</table>\n",
       "</div>"
      ],
      "text/plain": [
       "   consumer_sentiment  copper_price  deficit  velocity  oil_inv\n",
       "0                92.9      0.580590  -8643.0     1.690    31377\n",
       "1                97.2      0.669541 -25161.0     1.715    30707\n",
       "2                92.4      0.475120 -25161.0     1.733    30707\n",
       "3                92.4      0.452460 -25161.0     1.730    30707\n",
       "4                91.7      0.482349 -25161.0     1.722    30707"
      ]
     },
     "execution_count": 4,
     "metadata": {},
     "output_type": "execute_result"
    }
   ],
   "source": [
    "data = combined_df.drop([\"recession\", \"date\"], axis=1)\n",
    "# data = combined_df\n",
    "feature_names = data.columns\n",
    "data.head()"
   ]
  },
  {
   "cell_type": "code",
   "execution_count": 5,
   "metadata": {},
   "outputs": [],
   "source": [
    "from sklearn.model_selection import train_test_split\n",
    "X_train, X_test, y_train, y_test = train_test_split(data, target, random_state=42)"
   ]
  },
  {
   "cell_type": "code",
   "execution_count": 6,
   "metadata": {},
   "outputs": [
    {
     "data": {
      "text/plain": [
       "SVC(C=1.0, cache_size=200, class_weight=None, coef0=0.0,\n",
       "  decision_function_shape='ovr', degree=3, gamma='auto_deprecated',\n",
       "  kernel='linear', max_iter=-1, probability=False, random_state=None,\n",
       "  shrinking=True, tol=0.001, verbose=False)"
      ]
     },
     "execution_count": 6,
     "metadata": {},
     "output_type": "execute_result"
    }
   ],
   "source": [
    "from sklearn.svm import SVC \n",
    "model = SVC(kernel='linear')\n",
    "model.fit(X_train, y_train)"
   ]
  },
  {
   "cell_type": "code",
   "execution_count": 7,
   "metadata": {},
   "outputs": [],
   "source": [
    "from sklearn.model_selection import GridSearchCV\n",
    "param_grid = {'C': [1, 5, 10, 50],\n",
    "              'gamma': [0.0001, 0.0005, 0.001, 0.005]}\n",
    "grid = GridSearchCV(model, param_grid, verbose=2)"
   ]
  },
  {
   "cell_type": "code",
   "execution_count": null,
   "metadata": {
    "scrolled": true
   },
   "outputs": [
    {
     "name": "stderr",
     "output_type": "stream",
     "text": [
      "C:\\ProgramData\\Anaconda3\\lib\\site-packages\\sklearn\\model_selection\\_split.py:2053: FutureWarning: You should specify a value for 'cv' instead of relying on the default value. The default value will change from 3 to 5 in version 0.22.\n",
      "  warnings.warn(CV_WARNING, FutureWarning)\n",
      "[Parallel(n_jobs=1)]: Using backend SequentialBackend with 1 concurrent workers.\n"
     ]
    },
    {
     "name": "stdout",
     "output_type": "stream",
     "text": [
      "Fitting 3 folds for each of 16 candidates, totalling 48 fits\n",
      "[CV] C=1, gamma=0.0001 ...............................................\n",
      "[CV] ................................ C=1, gamma=0.0001, total=  39.2s\n",
      "[CV] C=1, gamma=0.0001 ...............................................\n"
     ]
    },
    {
     "name": "stderr",
     "output_type": "stream",
     "text": [
      "[Parallel(n_jobs=1)]: Done   1 out of   1 | elapsed:   39.2s remaining:    0.0s\n"
     ]
    },
    {
     "name": "stdout",
     "output_type": "stream",
     "text": [
      "[CV] ................................ C=1, gamma=0.0001, total= 1.5min\n",
      "[CV] C=1, gamma=0.0001 ...............................................\n",
      "[CV] ................................ C=1, gamma=0.0001, total=  13.3s\n",
      "[CV] C=1, gamma=0.0005 ...............................................\n",
      "[CV] ................................ C=1, gamma=0.0005, total=  39.1s\n",
      "[CV] C=1, gamma=0.0005 ...............................................\n",
      "[CV] ................................ C=1, gamma=0.0005, total= 1.4min\n",
      "[CV] C=1, gamma=0.0005 ...............................................\n",
      "[CV] ................................ C=1, gamma=0.0005, total=  13.2s\n",
      "[CV] C=1, gamma=0.001 ................................................\n",
      "[CV] ................................. C=1, gamma=0.001, total=  38.2s\n",
      "[CV] C=1, gamma=0.001 ................................................\n",
      "[CV] ................................. C=1, gamma=0.001, total= 1.4min\n",
      "[CV] C=1, gamma=0.001 ................................................\n",
      "[CV] ................................. C=1, gamma=0.001, total=  13.4s\n",
      "[CV] C=1, gamma=0.005 ................................................\n",
      "[CV] ................................. C=1, gamma=0.005, total=  39.0s\n",
      "[CV] C=1, gamma=0.005 ................................................\n",
      "[CV] ................................. C=1, gamma=0.005, total= 1.5min\n",
      "[CV] C=1, gamma=0.005 ................................................\n",
      "[CV] ................................. C=1, gamma=0.005, total=  13.2s\n",
      "[CV] C=5, gamma=0.0001 ...............................................\n",
      "[CV] ................................ C=5, gamma=0.0001, total=  40.8s\n",
      "[CV] C=5, gamma=0.0001 ...............................................\n",
      "[CV] ................................ C=5, gamma=0.0001, total= 1.5min\n",
      "[CV] C=5, gamma=0.0001 ...............................................\n",
      "[CV] ................................ C=5, gamma=0.0001, total=  13.9s\n",
      "[CV] C=5, gamma=0.0005 ...............................................\n",
      "[CV] ................................ C=5, gamma=0.0005, total=  40.5s\n",
      "[CV] C=5, gamma=0.0005 ...............................................\n",
      "[CV] ................................ C=5, gamma=0.0005, total= 1.5min\n",
      "[CV] C=5, gamma=0.0005 ...............................................\n",
      "[CV] ................................ C=5, gamma=0.0005, total=  13.2s\n",
      "[CV] C=5, gamma=0.001 ................................................\n",
      "[CV] ................................. C=5, gamma=0.001, total=  39.9s\n",
      "[CV] C=5, gamma=0.001 ................................................\n",
      "[CV] ................................. C=5, gamma=0.001, total= 1.6min\n",
      "[CV] C=5, gamma=0.001 ................................................\n",
      "[CV] ................................. C=5, gamma=0.001, total=  13.7s\n",
      "[CV] C=5, gamma=0.005 ................................................\n",
      "[CV] ................................. C=5, gamma=0.005, total=  41.4s\n",
      "[CV] C=5, gamma=0.005 ................................................\n",
      "[CV] ................................. C=5, gamma=0.005, total= 1.6min\n",
      "[CV] C=5, gamma=0.005 ................................................\n",
      "[CV] ................................. C=5, gamma=0.005, total=  14.3s\n",
      "[CV] C=10, gamma=0.0001 ..............................................\n",
      "[CV] ............................... C=10, gamma=0.0001, total=  48.0s\n",
      "[CV] C=10, gamma=0.0001 ..............................................\n",
      "[CV] ............................... C=10, gamma=0.0001, total= 1.8min\n",
      "[CV] C=10, gamma=0.0001 ..............................................\n",
      "[CV] ............................... C=10, gamma=0.0001, total=   9.4s\n",
      "[CV] C=10, gamma=0.0005 ..............................................\n",
      "[CV] ............................... C=10, gamma=0.0005, total=  47.9s\n",
      "[CV] C=10, gamma=0.0005 ..............................................\n",
      "[CV] ............................... C=10, gamma=0.0005, total= 1.9min\n",
      "[CV] C=10, gamma=0.0005 ..............................................\n",
      "[CV] ............................... C=10, gamma=0.0005, total=  10.2s\n",
      "[CV] C=10, gamma=0.001 ...............................................\n",
      "[CV] ................................ C=10, gamma=0.001, total=  54.3s\n",
      "[CV] C=10, gamma=0.001 ...............................................\n"
     ]
    }
   ],
   "source": [
    "grid.fit(X_train, y_train)"
   ]
  },
  {
   "cell_type": "code",
   "execution_count": null,
   "metadata": {},
   "outputs": [],
   "source": [
    "print(grid.best_score_)"
   ]
  },
  {
   "cell_type": "code",
   "execution_count": null,
   "metadata": {},
   "outputs": [],
   "source": [
    "print('Test Acc: %.3f' % model.score(X_test, y_test))"
   ]
  },
  {
   "cell_type": "code",
   "execution_count": null,
   "metadata": {},
   "outputs": [],
   "source": [
    "from sklearn.metrics import classification_report\n",
    "predictions = model.predict(X_test)\n",
    "print(classification_report(y_test, predictions,\n",
    "                            target_names=target_names))"
   ]
  },
  {
   "cell_type": "code",
   "execution_count": null,
   "metadata": {},
   "outputs": [],
   "source": []
  }
 ],
 "metadata": {
  "kernelspec": {
   "display_name": "Python 3",
   "language": "python",
   "name": "python3"
  },
  "language_info": {
   "codemirror_mode": {
    "name": "ipython",
    "version": 3
   },
   "file_extension": ".py",
   "mimetype": "text/x-python",
   "name": "python",
   "nbconvert_exporter": "python",
   "pygments_lexer": "ipython3",
   "version": "3.7.1"
  }
 },
 "nbformat": 4,
 "nbformat_minor": 2
}
