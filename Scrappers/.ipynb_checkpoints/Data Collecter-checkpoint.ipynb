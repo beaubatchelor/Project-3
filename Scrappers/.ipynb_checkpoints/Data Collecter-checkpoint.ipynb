{
 "cells": [
  {
   "cell_type": "code",
   "execution_count": 4,
   "metadata": {},
   "outputs": [],
   "source": [
    "import pandas as pd\n",
    "import requests, json\n",
    "from config import fred_api_key, quandl_api_key, eia_api_key\n",
    "import datetime as dt\n",
    "import pprint"
   ]
  },
  {
   "cell_type": "code",
   "execution_count": 27,
   "metadata": {},
   "outputs": [
    {
     "name": "stdout",
     "output_type": "stream",
     "text": [
      "http://api.eia.gov/series/?series_id=PET.RCRR01NUS_1.A&api_key=8a3529cfa5c09cd97b2952a61ae2b8f4&out=json\n"
     ]
    }
   ],
   "source": [
    "# FRED access and criteria\n",
    "consumer_address = f\"https://api.stlouisfed.org/fred/series/observations?series_id=UMCSENT&frequency=q&api_key={fred_api_key}&file_type=json\"\n",
    "deficit_address = f\"https://api.stlouisfed.org/fred/series/observations?series_id=FYFSD&frequency=a&api_key={fred_api_key}&file_type=json\"\n",
    "velocity_address = f\"https://api.stlouisfed.org/fred/series/observations?series_id=M2V&frequency=q&api_key={fred_api_key}&file_type=json\"\n",
    "\n",
    "# Quandl access and criteria\n",
    "copper_address = f\"https://www.quandl.com/api/v3/datasets/CHRIS/CME_HG1?api_key={quandl_api_key}\"\n",
    "\n",
    "#EIA access and criteria\n",
    "# category_id = '293798'\n",
    "oil_inv_address = f\"http://api.eia.gov/series/?series_id=PET.RCRR01NUS_1.A&api_key={eia_api_key}&out=json\"\n"
   ]
  },
  {
   "cell_type": "code",
   "execution_count": 46,
   "metadata": {},
   "outputs": [],
   "source": [
    "# FRED jsons\n",
    "consumer_json = requests.get(consumer_address).json()\n",
    "deficit_json = requests.get(deficit_address).json()\n",
    "velocity_json = requests.get(velocity_address).json()\n",
    "\n",
    "# Quandl json\n",
    "copper_json = requests.get(copper_address).json()\n",
    "\n",
    "# EIA json\n",
    "oil_inv_json = requests.get(oil_inv_address).json()"
   ]
  },
  {
   "cell_type": "code",
   "execution_count": 47,
   "metadata": {},
   "outputs": [],
   "source": [
    "# Quandl cleaning headers for dataframe\n",
    "copper_headers = copper_json[\"dataset\"][\"column_names\"]\n",
    "clean_copper_headers = []\n",
    "for header in copper_headers:\n",
    "    header = header.lower().replace(\" \", \"_\")\n",
    "    clean_copper_headers.append(header)"
   ]
  },
  {
   "cell_type": "code",
   "execution_count": 48,
   "metadata": {
    "scrolled": true
   },
   "outputs": [],
   "source": [
    "# FRED data frame clean and create\n",
    "consumer_df = pd.DataFrame(consumer_json[\"observations\"])\n",
    "consumer_df = consumer_df[consumer_df.value != '.']\n",
    "consumer_df = consumer_df.reset_index()\n",
    "consumer_df = consumer_df.drop(columns = [\"index\",\"realtime_end\",\"realtime_start\"], axis=1)\n",
    "\n",
    "deficit_df = pd.DataFrame(deficit_json[\"observations\"])\n",
    "deficit_df = deficit_df.drop([\"realtime_end\", \"realtime_start\"], axis=1)\n",
    "deficit_df = deficit_df.rename(index=str, columns={\"value\" : \"deficit\"})\n",
    "\n",
    "velocity_df = pd.DataFrame(velocity_json[\"observations\"])\n",
    "velocity_df = velocity_df.drop([\"realtime_end\", \"realtime_start\"], axis=1)\n",
    "velocity_df = velocity_df.rename(index=str, columns={\"value\" : \"velocity\"})\n",
    "\n",
    "# Quandl data frame\n",
    "copper_df = pd.DataFrame(copper_json[\"dataset\"][\"data\"], columns = clean_copper_headers)\n",
    "\n",
    "# EIA data frame\n",
    "oil_inv_df = pd.DataFrame(oil_inv_json['series'][0]['data'], columns = ['date', 'oil_inv'])\n"
   ]
  },
  {
   "cell_type": "code",
   "execution_count": 49,
   "metadata": {},
   "outputs": [],
   "source": [
    "# FRED integer and datetime changer\n",
    "for index, row in consumer_df.iterrows():\n",
    "    row.date = dt.date.fromisoformat(row.date)\n",
    "    row.value = float(row.value)\n",
    "    \n",
    "for index, row in deficit_df.iterrows():\n",
    "    row.date = dt.date.fromisoformat(row.date)\n",
    "    row.deficit = float(row.deficit)\n",
    "    \n",
    "for index, row in velocity_df.iterrows():\n",
    "    row.date = dt.date.fromisoformat(row.date)\n",
    "    row.velocity = float(row.velocity)"
   ]
  },
  {
   "cell_type": "code",
   "execution_count": null,
   "metadata": {},
   "outputs": [],
   "source": [
    "# Quandl integer and datetime changer\n",
    "for index, row in copper_df.iterrows():\n",
    "    row.date = dt.date.fromisoformat(row.date)\n",
    "    mon = row.date.month\n",
    "    if mon >= 1 and mon <= 3:\n",
    "        mon = 1\n",
    "    elif mon >= 4 and mon <= 6:\n",
    "        mon = 4\n",
    "    elif mon >= 7 and mon <= 9:\n",
    "        mon = 7\n",
    "    elif mon >= 10 and mon <= 12:\n",
    "        mon = 10\n",
    "    copper_df.date[index] = row.date.replace(month = mon , day = 1)\n",
    "    \n",
    "copper_df = copper_df.groupby([\"date\"]).mean()\n",
    "copper_df = copper_df.reset_index()"
   ]
  },
  {
   "cell_type": "code",
   "execution_count": 51,
   "metadata": {},
   "outputs": [
    {
     "ename": "ValueError",
     "evalue": "Invalid isoformat string: '-20170201712017-2017020171'",
     "output_type": "error",
     "traceback": [
      "\u001b[1;31m---------------------------------------------------------------------------\u001b[0m",
      "\u001b[1;31mValueError\u001b[0m                                Traceback (most recent call last)",
      "\u001b[1;32m<ipython-input-51-769230653bc3>\u001b[0m in \u001b[0;36m<module>\u001b[1;34m\u001b[0m\n\u001b[0;32m      3\u001b[0m     \u001b[0mrow\u001b[0m\u001b[1;33m.\u001b[0m\u001b[0mdate\u001b[0m \u001b[1;33m=\u001b[0m \u001b[0mrow\u001b[0m\u001b[1;33m.\u001b[0m\u001b[0mdate\u001b[0m\u001b[1;33m.\u001b[0m\u001b[0mjoin\u001b[0m\u001b[1;33m(\u001b[0m\u001b[1;34m'-01-01'\u001b[0m\u001b[1;33m)\u001b[0m\u001b[1;33m\u001b[0m\u001b[1;33m\u001b[0m\u001b[0m\n\u001b[0;32m      4\u001b[0m     \u001b[0mrow\u001b[0m\u001b[1;33m.\u001b[0m\u001b[0moil_inv\u001b[0m \u001b[1;33m=\u001b[0m \u001b[0mfloat\u001b[0m\u001b[1;33m(\u001b[0m\u001b[0mrow\u001b[0m\u001b[1;33m.\u001b[0m\u001b[0moil_inv\u001b[0m\u001b[1;33m)\u001b[0m\u001b[1;33m\u001b[0m\u001b[1;33m\u001b[0m\u001b[0m\n\u001b[1;32m----> 5\u001b[1;33m     \u001b[0mrow\u001b[0m\u001b[1;33m.\u001b[0m\u001b[0mdate\u001b[0m \u001b[1;33m=\u001b[0m \u001b[0mdt\u001b[0m\u001b[1;33m.\u001b[0m\u001b[0mdate\u001b[0m\u001b[1;33m.\u001b[0m\u001b[0mfromisoformat\u001b[0m\u001b[1;33m(\u001b[0m\u001b[0mrow\u001b[0m\u001b[1;33m.\u001b[0m\u001b[0mdate\u001b[0m\u001b[1;33m)\u001b[0m\u001b[1;33m\u001b[0m\u001b[1;33m\u001b[0m\u001b[0m\n\u001b[0m\u001b[0;32m      6\u001b[0m \u001b[0moil_inv_df\u001b[0m\u001b[1;33m.\u001b[0m\u001b[0mhead\u001b[0m\u001b[1;33m(\u001b[0m\u001b[1;33m)\u001b[0m\u001b[1;33m\u001b[0m\u001b[1;33m\u001b[0m\u001b[0m\n",
      "\u001b[1;31mValueError\u001b[0m: Invalid isoformat string: '-20170201712017-2017020171'"
     ]
    }
   ],
   "source": [
    "#EIA integer and datetime changer\n",
    "for index, row in oil_inv_df.iterrows():\n",
    "    row.date = row.date.join('-01-01')\n",
    "    row.oil_inv = float(row.oil_inv)\n",
    "    row.date = dt.date.fromisoformat(row.date)\n",
    "oil_inv_df.head()"
   ]
  },
  {
   "cell_type": "code",
   "execution_count": null,
   "metadata": {},
   "outputs": [],
   "source": [
    "# Creating new df with quarterly data\n",
    "quarter_deficit_list = []\n",
    "for index, row in deficit_df.iterrows():\n",
    "    date = row.date\n",
    "    q1 = {\"date\" : date.replace(month = 1, day = 1), \"deficit\": row.deficit}\n",
    "    q2 = {\"date\" : date.replace(month = 4, day = 1), \"deficit\": row.deficit}\n",
    "    q3 = {\"date\" : date.replace(month = 7, day = 1), \"deficit\": row.deficit}\n",
    "    q4 = {\"date\" : date.replace(month = 10, day = 1), \"deficit\": row.deficit}\n",
    "    quarter_deficit_list.append(q1)\n",
    "    quarter_deficit_list.append(q2)\n",
    "    quarter_deficit_list.append(q3)\n",
    "    quarter_deficit_list.append(q4)\n",
    "quarter_deficit_df = pd.DataFrame(quarter_deficit_list)"
   ]
  },
  {
   "cell_type": "code",
   "execution_count": null,
   "metadata": {},
   "outputs": [],
   "source": [
    "combined_df = consumer_df.merge(copper_df, on=\"date\")\n",
    "combined_df = combined_df.drop(['open', 'high', 'low', 'last', 'change', 'volume', \"previous_day_open_interest\"], axis=1)\n",
    "combined_df = combined_df.rename(index=str, columns={\"value\": \"consumer_sentiment\", \"settle\": \"copper_price\"})\n",
    "combined_df = combined_df.merge(quarter_deficit_df, on=\"date\")\n",
    "combined_df = combined_df.merge(velocity_df, on=\"date\")\n",
    "combined_df.head()"
   ]
  },
  {
   "cell_type": "code",
   "execution_count": null,
   "metadata": {},
   "outputs": [],
   "source": [
    "combined_df.plot(x=\"date\",y=\"consumer_sentiment\", kind=\"line\", figsize=(30,10))"
   ]
  },
  {
   "cell_type": "code",
   "execution_count": null,
   "metadata": {},
   "outputs": [],
   "source": [
    "combined_df.plot(x=\"date\", y=\"copper_price\", kind=\"line\", figsize=(30,10))"
   ]
  },
  {
   "cell_type": "code",
   "execution_count": null,
   "metadata": {},
   "outputs": [],
   "source": [
    "combined_df.plot(x=\"date\", y=\"deficit\", kind=\"line\", figsize=(30,10))"
   ]
  },
  {
   "cell_type": "code",
   "execution_count": null,
   "metadata": {},
   "outputs": [],
   "source": [
    "combined_df.plot(x=\"date\", y=\"velocity\", kind=\"line\", figsize=(30,10))"
   ]
  }
 ],
 "metadata": {
  "kernelspec": {
   "display_name": "Python 3",
   "language": "python",
   "name": "python3"
  },
  "language_info": {
   "codemirror_mode": {
    "name": "ipython",
    "version": 3
   },
   "file_extension": ".py",
   "mimetype": "text/x-python",
   "name": "python",
   "nbconvert_exporter": "python",
   "pygments_lexer": "ipython3",
   "version": "3.7.1"
  }
 },
 "nbformat": 4,
 "nbformat_minor": 2
}
