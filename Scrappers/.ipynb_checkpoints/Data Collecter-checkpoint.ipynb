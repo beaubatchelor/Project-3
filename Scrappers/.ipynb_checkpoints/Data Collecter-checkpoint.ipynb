{
 "cells": [
  {
   "cell_type": "code",
   "execution_count": null,
   "metadata": {},
   "outputs": [],
   "source": [
    "import pandas as pd\n",
    "import requests, json\n",
    "from config import fred_api_key, quandl_api_key\n",
    "import datetime as dt"
   ]
  },
  {
   "cell_type": "code",
   "execution_count": null,
   "metadata": {},
   "outputs": [],
   "source": [
    "# FRED access and criteria\n",
    "realtime_start = \"1920-01-01\"\n",
    "realtime_end = \"9999-12-31\"\n",
    "series_id = \"UMCSENT\"\n",
    "frequency= \"q\"\n",
    "consumer_address = f\"https://api.stlouisfed.org/fred/series/observations?series_id={series_id}&frequency={frequency}&api_key={fred_api_key}&file_type=json\"\n",
    "\n",
    "# Quandl access and criteria\n",
    "exchange_code = \"CME_HG1\"\n",
    "copper_address = f\"https://www.quandl.com/api/v3/datasets/CHRIS/{exchange_code}?api_key={quandl_api_key}\""
   ]
  },
  {
   "cell_type": "code",
   "execution_count": null,
   "metadata": {},
   "outputs": [],
   "source": [
    "# FRED json\n",
    "consumer_json = requests.get(consumer_address).json()\n",
    "\n",
    "# Quandl json\n",
    "copper_json = requests.get(copper_address).json()"
   ]
  },
  {
   "cell_type": "code",
   "execution_count": null,
   "metadata": {},
   "outputs": [],
   "source": [
    "# Quandl cleaning headers for dataframe\n",
    "copper_headers = copper_json[\"dataset\"][\"column_names\"]\n",
    "clean_copper_headers = []\n",
    "for header in copper_headers:\n",
    "    header = header.lower().replace(\" \", \"_\")\n",
    "    clean_copper_headers.append(header)"
   ]
  },
  {
   "cell_type": "code",
   "execution_count": null,
   "metadata": {
    "scrolled": true
   },
   "outputs": [],
   "source": [
    "# FRED data frame clean and create\n",
    "consumer_df = pd.DataFrame(consumer_json[\"observations\"])\n",
    "consumer_df = consumer_df[consumer_df.value != '.']\n",
    "consumer_df = consumer_df.reset_index()\n",
    "consumer_df = consumer_df.drop(columns = [\"index\",\"realtime_end\",\"realtime_start\"], axis=1)\n",
    "\n",
    "# Quandl data frame\n",
    "copper_df = pd.DataFrame(copper_json[\"dataset\"][\"data\"], columns = clean_copper_headers)\n"
   ]
  },
  {
   "cell_type": "code",
   "execution_count": null,
   "metadata": {},
   "outputs": [],
   "source": [
    "# FRED integer and datetime changer\n",
    "for index, row in consumer_df.iterrows():\n",
    "    row.date = dt.date.fromisoformat(row.date)\n",
    "    row.value = float(row.value)"
   ]
  },
  {
   "cell_type": "code",
   "execution_count": null,
   "metadata": {},
   "outputs": [],
   "source": [
    "# Quandl integer and datetime changer\n",
    "for index, row in copper_df.iterrows():\n",
    "    row.date = dt.date.fromisoformat(row.date)\n",
    "    mon = row.date.month\n",
    "    if mon >= 1 and mon <= 3:\n",
    "        mon = 1\n",
    "    elif mon >= 4 and mon <= 6:\n",
    "        mon = 4\n",
    "    elif mon >= 7 and mon <= 9:\n",
    "        mon = 7\n",
    "    elif mon >= 10 and mon <= 12:\n",
    "        mon = 10\n",
    "    copper_df.date[index] = row.date.replace(month = mon , day = 1)"
   ]
  },
  {
   "cell_type": "code",
   "execution_count": null,
   "metadata": {},
   "outputs": [],
   "source": [
    "copper_df.tail(50)"
   ]
  },
  {
   "cell_type": "code",
   "execution_count": null,
   "metadata": {},
   "outputs": [],
   "source": [
    "consumer_df.head()"
   ]
  },
  {
   "cell_type": "code",
   "execution_count": null,
   "metadata": {},
   "outputs": [],
   "source": [
    "consumer_df.plot(x=\"date\",y=\"value\", kind=\"line\", figsize=(30,10))"
   ]
  },
  {
   "cell_type": "code",
   "execution_count": null,
   "metadata": {},
   "outputs": [],
   "source": [
    "copper_chart = copper_df.plot(x=\"date\", y=\"settle\", kind=\"line\", figsize=(30,10))\n"
   ]
  },
  {
   "cell_type": "code",
   "execution_count": null,
   "metadata": {},
   "outputs": [],
   "source": []
  }
 ],
 "metadata": {
  "kernelspec": {
   "display_name": "Python 3",
   "language": "python",
   "name": "python3"
  },
  "language_info": {
   "codemirror_mode": {
    "name": "ipython",
    "version": 3
   },
   "file_extension": ".py",
   "mimetype": "text/x-python",
   "name": "python",
   "nbconvert_exporter": "python",
   "pygments_lexer": "ipython3",
   "version": "3.7.1"
  }
 },
 "nbformat": 4,
 "nbformat_minor": 2
}
