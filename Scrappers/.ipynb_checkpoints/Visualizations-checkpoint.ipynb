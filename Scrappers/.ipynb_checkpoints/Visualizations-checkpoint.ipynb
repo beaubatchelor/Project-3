{
 "cells": [
  {
   "cell_type": "code",
   "execution_count": 1,
   "metadata": {},
   "outputs": [],
   "source": [
    "import pandas as pd\n",
    "import requests, json\n",
    "from config import fred_api_key, quandl_api_key, eia_api_key\n",
    "import datetime as dt\n",
    "import pprint\n",
    "import os\n",
    "import matplotlib as plt"
   ]
  },
  {
   "cell_type": "code",
   "execution_count": 22,
   "metadata": {},
   "outputs": [
    {
     "data": {
      "text/html": [
       "<div>\n",
       "<style scoped>\n",
       "    .dataframe tbody tr th:only-of-type {\n",
       "        vertical-align: middle;\n",
       "    }\n",
       "\n",
       "    .dataframe tbody tr th {\n",
       "        vertical-align: top;\n",
       "    }\n",
       "\n",
       "    .dataframe thead th {\n",
       "        text-align: right;\n",
       "    }\n",
       "</style>\n",
       "<table border=\"1\" class=\"dataframe\">\n",
       "  <thead>\n",
       "    <tr style=\"text-align: right;\">\n",
       "      <th></th>\n",
       "      <th>date</th>\n",
       "      <th>consumer_sentiment</th>\n",
       "      <th>copper_price</th>\n",
       "      <th>deficit</th>\n",
       "      <th>velocity</th>\n",
       "      <th>oil_inv</th>\n",
       "      <th>Contraction</th>\n",
       "      <th>Unemployment</th>\n",
       "      <th>One Year Bond</th>\n",
       "      <th>Ten Year Bond</th>\n",
       "      <th>GDP</th>\n",
       "      <th>Discount Rate</th>\n",
       "    </tr>\n",
       "  </thead>\n",
       "  <tbody>\n",
       "    <tr>\n",
       "      <th>0</th>\n",
       "      <td>1960-04-01</td>\n",
       "      <td>93.3</td>\n",
       "      <td>0.311057</td>\n",
       "      <td>301.0</td>\n",
       "      <td>1.797</td>\n",
       "      <td>31613</td>\n",
       "      <td>1.0</td>\n",
       "      <td>5.2</td>\n",
       "      <td>3.87</td>\n",
       "      <td>4.26</td>\n",
       "      <td>3258.088</td>\n",
       "      <td>3.88</td>\n",
       "    </tr>\n",
       "    <tr>\n",
       "      <th>1</th>\n",
       "      <td>1960-07-01</td>\n",
       "      <td>97.2</td>\n",
       "      <td>0.303747</td>\n",
       "      <td>301.0</td>\n",
       "      <td>1.780</td>\n",
       "      <td>31613</td>\n",
       "      <td>1.0</td>\n",
       "      <td>5.5</td>\n",
       "      <td>3.07</td>\n",
       "      <td>3.83</td>\n",
       "      <td>3274.029</td>\n",
       "      <td>3.23</td>\n",
       "    </tr>\n",
       "    <tr>\n",
       "      <th>2</th>\n",
       "      <td>1960-10-01</td>\n",
       "      <td>90.1</td>\n",
       "      <td>0.282263</td>\n",
       "      <td>301.0</td>\n",
       "      <td>1.737</td>\n",
       "      <td>31613</td>\n",
       "      <td>1.0</td>\n",
       "      <td>6.3</td>\n",
       "      <td>2.99</td>\n",
       "      <td>3.89</td>\n",
       "      <td>3232.009</td>\n",
       "      <td>3.00</td>\n",
       "    </tr>\n",
       "    <tr>\n",
       "      <th>3</th>\n",
       "      <td>1961-01-01</td>\n",
       "      <td>91.6</td>\n",
       "      <td>0.281681</td>\n",
       "      <td>-3335.0</td>\n",
       "      <td>1.723</td>\n",
       "      <td>31759</td>\n",
       "      <td>0.0</td>\n",
       "      <td>6.8</td>\n",
       "      <td>2.87</td>\n",
       "      <td>3.79</td>\n",
       "      <td>3253.826</td>\n",
       "      <td>3.00</td>\n",
       "    </tr>\n",
       "    <tr>\n",
       "      <th>4</th>\n",
       "      <td>1961-04-01</td>\n",
       "      <td>92.5</td>\n",
       "      <td>0.306175</td>\n",
       "      <td>-3335.0</td>\n",
       "      <td>1.724</td>\n",
       "      <td>31759</td>\n",
       "      <td>0.0</td>\n",
       "      <td>7.0</td>\n",
       "      <td>2.94</td>\n",
       "      <td>3.79</td>\n",
       "      <td>3309.059</td>\n",
       "      <td>3.00</td>\n",
       "    </tr>\n",
       "  </tbody>\n",
       "</table>\n",
       "</div>"
      ],
      "text/plain": [
       "         date  consumer_sentiment  copper_price  deficit  velocity  oil_inv  \\\n",
       "0  1960-04-01                93.3      0.311057    301.0     1.797    31613   \n",
       "1  1960-07-01                97.2      0.303747    301.0     1.780    31613   \n",
       "2  1960-10-01                90.1      0.282263    301.0     1.737    31613   \n",
       "3  1961-01-01                91.6      0.281681  -3335.0     1.723    31759   \n",
       "4  1961-04-01                92.5      0.306175  -3335.0     1.724    31759   \n",
       "\n",
       "   Contraction  Unemployment  One Year Bond  Ten Year Bond       GDP  \\\n",
       "0          1.0           5.2           3.87           4.26  3258.088   \n",
       "1          1.0           5.5           3.07           3.83  3274.029   \n",
       "2          1.0           6.3           2.99           3.89  3232.009   \n",
       "3          0.0           6.8           2.87           3.79  3253.826   \n",
       "4          0.0           7.0           2.94           3.79  3309.059   \n",
       "\n",
       "   Discount Rate  \n",
       "0           3.88  \n",
       "1           3.23  \n",
       "2           3.00  \n",
       "3           3.00  \n",
       "4           3.00  "
      ]
     },
     "execution_count": 22,
     "metadata": {},
     "output_type": "execute_result"
    }
   ],
   "source": [
    "combined_df = pd.read_csv(filepath_or_buffer = '../data/combined_df.csv')\n",
    "combined_df.head()"
   ]
  },
  {
   "cell_type": "code",
   "execution_count": 23,
   "metadata": {},
   "outputs": [
    {
     "data": {
      "text/html": [
       "<div>\n",
       "<style scoped>\n",
       "    .dataframe tbody tr th:only-of-type {\n",
       "        vertical-align: middle;\n",
       "    }\n",
       "\n",
       "    .dataframe tbody tr th {\n",
       "        vertical-align: top;\n",
       "    }\n",
       "\n",
       "    .dataframe thead th {\n",
       "        text-align: right;\n",
       "    }\n",
       "</style>\n",
       "<table border=\"1\" class=\"dataframe\">\n",
       "  <thead>\n",
       "    <tr style=\"text-align: right;\">\n",
       "      <th></th>\n",
       "      <th>Date</th>\n",
       "      <th>Contraction</th>\n",
       "      <th>Unemployment</th>\n",
       "      <th>Yield Spread</th>\n",
       "      <th>GDP pct change</th>\n",
       "    </tr>\n",
       "  </thead>\n",
       "  <tbody>\n",
       "    <tr>\n",
       "      <th>0</th>\n",
       "      <td>1953-04-01</td>\n",
       "      <td>0.0</td>\n",
       "      <td>2.6</td>\n",
       "      <td>0.57</td>\n",
       "      <td>0.772984</td>\n",
       "    </tr>\n",
       "    <tr>\n",
       "      <th>1</th>\n",
       "      <td>1953-07-01</td>\n",
       "      <td>1.0</td>\n",
       "      <td>2.7</td>\n",
       "      <td>0.63</td>\n",
       "      <td>-0.562694</td>\n",
       "    </tr>\n",
       "    <tr>\n",
       "      <th>2</th>\n",
       "      <td>1953-10-01</td>\n",
       "      <td>1.0</td>\n",
       "      <td>3.7</td>\n",
       "      <td>0.93</td>\n",
       "      <td>-1.513976</td>\n",
       "    </tr>\n",
       "    <tr>\n",
       "      <th>3</th>\n",
       "      <td>1954-01-01</td>\n",
       "      <td>1.0</td>\n",
       "      <td>5.3</td>\n",
       "      <td>1.21</td>\n",
       "      <td>-0.478013</td>\n",
       "    </tr>\n",
       "    <tr>\n",
       "      <th>4</th>\n",
       "      <td>1954-04-01</td>\n",
       "      <td>1.0</td>\n",
       "      <td>5.8</td>\n",
       "      <td>1.47</td>\n",
       "      <td>0.108991</td>\n",
       "    </tr>\n",
       "  </tbody>\n",
       "</table>\n",
       "</div>"
      ],
      "text/plain": [
       "         Date  Contraction  Unemployment  Yield Spread  GDP pct change\n",
       "0  1953-04-01          0.0           2.6          0.57        0.772984\n",
       "1  1953-07-01          1.0           2.7          0.63       -0.562694\n",
       "2  1953-10-01          1.0           3.7          0.93       -1.513976\n",
       "3  1954-01-01          1.0           5.3          1.21       -0.478013\n",
       "4  1954-04-01          1.0           5.8          1.47        0.108991"
      ]
     },
     "execution_count": 23,
     "metadata": {},
     "output_type": "execute_result"
    }
   ],
   "source": [
    "economic_indicators_df = pd.read_csv(filepath_or_buffer = '../data/EconomicIndicators.csv')\n",
    "economic_indicators_df.head()"
   ]
  },
  {
   "cell_type": "code",
   "execution_count": 24,
   "metadata": {},
   "outputs": [
    {
     "name": "stderr",
     "output_type": "stream",
     "text": [
      "C:\\ProgramData\\Anaconda3\\lib\\site-packages\\ipykernel_launcher.py:2: SettingWithCopyWarning: \n",
      "A value is trying to be set on a copy of a slice from a DataFrame\n",
      "\n",
      "See the caveats in the documentation: http://pandas.pydata.org/pandas-docs/stable/indexing.html#indexing-view-versus-copy\n",
      "  \n"
     ]
    }
   ],
   "source": [
    "for index, row in combined_df.iterrows():\n",
    "    combined_df['date'][index] = dt.date.fromisoformat(row.date)"
   ]
  },
  {
   "cell_type": "code",
   "execution_count": 33,
   "metadata": {},
   "outputs": [
    {
     "name": "stderr",
     "output_type": "stream",
     "text": [
      "C:\\ProgramData\\Anaconda3\\lib\\site-packages\\ipykernel_launcher.py:2: SettingWithCopyWarning: \n",
      "A value is trying to be set on a copy of a slice from a DataFrame\n",
      "\n",
      "See the caveats in the documentation: http://pandas.pydata.org/pandas-docs/stable/indexing.html#indexing-view-versus-copy\n",
      "  \n"
     ]
    }
   ],
   "source": [
    "for index, row in economic_indicators_df[0:5].iterrows():\n",
    "    economic_indicators_df.Date[index] = dt.date.fromisoformat(row.Date)"
   ]
  },
  {
   "cell_type": "code",
   "execution_count": null,
   "metadata": {},
   "outputs": [],
   "source": [
    "plt.plot(combined_df.date, combined_df.co)"
   ]
  }
 ],
 "metadata": {
  "kernelspec": {
   "display_name": "Python 3",
   "language": "python",
   "name": "python3"
  },
  "language_info": {
   "codemirror_mode": {
    "name": "ipython",
    "version": 3
   },
   "file_extension": ".py",
   "mimetype": "text/x-python",
   "name": "python",
   "nbconvert_exporter": "python",
   "pygments_lexer": "ipython3",
   "version": "3.7.1"
  }
 },
 "nbformat": 4,
 "nbformat_minor": 2
}
