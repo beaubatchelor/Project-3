{
 "cells": [
  {
   "cell_type": "code",
   "execution_count": 1,
   "metadata": {},
   "outputs": [],
   "source": [
    "import pandas as pd\n",
    "import requests, json\n",
    "from config import fred_api_key, quandl_api_key, eia_api_key\n",
    "import datetime as dt\n",
    "import pprint\n",
    "import os"
   ]
  },
  {
   "cell_type": "code",
   "execution_count": 2,
   "metadata": {},
   "outputs": [],
   "source": [
    "# FRED access and criteria\n",
    "consumer_address = f\"https://api.stlouisfed.org/fred/series/observations?series_id=UMCSENT&frequency=q&api_key={fred_api_key}&file_type=json\"\n",
    "deficit_address = f\"https://api.stlouisfed.org/fred/series/observations?series_id=FYFSD&frequency=a&api_key={fred_api_key}&file_type=json\"\n",
    "velocity_address = f\"https://api.stlouisfed.org/fred/series/observations?series_id=M2V&frequency=q&api_key={fred_api_key}&file_type=json\"\n",
    "\n",
    "# Quandl access and criteria\n",
    "copper_address = f\"https://www.quandl.com/api/v3/datasets/CHRIS/CME_HG1?api_key={quandl_api_key}\"\n",
    "\n",
    "#EIA access and criteria\n",
    "# category_id = '293798'\n",
    "oil_inv_address = f\"http://api.eia.gov/series/?series_id=PET.RCRR01NUS_1.A&api_key={eia_api_key}&out=json\"\n"
   ]
  },
  {
   "cell_type": "code",
   "execution_count": 3,
   "metadata": {},
   "outputs": [],
   "source": [
    "# FRED jsons\n",
    "consumer_json = requests.get(consumer_address).json()\n",
    "deficit_json = requests.get(deficit_address).json()\n",
    "velocity_json = requests.get(velocity_address).json()\n",
    "\n",
    "# Quandl json\n",
    "copper_json = requests.get(copper_address).json()\n",
    "\n",
    "# EIA json\n",
    "oil_inv_json = requests.get(oil_inv_address).json()"
   ]
  },
  {
   "cell_type": "code",
   "execution_count": 4,
   "metadata": {},
   "outputs": [],
   "source": [
    "# Quandl cleaning headers for dataframe\n",
    "copper_headers = copper_json[\"dataset\"][\"column_names\"]\n",
    "clean_copper_headers = []\n",
    "for header in copper_headers:\n",
    "    header = header.lower().replace(\" \", \"_\")\n",
    "    clean_copper_headers.append(header)"
   ]
  },
  {
   "cell_type": "code",
   "execution_count": 5,
   "metadata": {
    "scrolled": true
   },
   "outputs": [],
   "source": [
    "# FRED data frame clean and create\n",
    "consumer_df = pd.DataFrame(consumer_json[\"observations\"])\n",
    "consumer_df = consumer_df[consumer_df.value != '.']\n",
    "consumer_df = consumer_df.reset_index()\n",
    "consumer_df = consumer_df.drop(columns = [\"index\",\"realtime_end\",\"realtime_start\"], axis=1)\n",
    "\n",
    "deficit_df = pd.DataFrame(deficit_json[\"observations\"])\n",
    "deficit_df = deficit_df.drop([\"realtime_end\", \"realtime_start\"], axis=1)\n",
    "deficit_df = deficit_df.rename(index=str, columns={\"value\" : \"deficit\"})\n",
    "\n",
    "velocity_df = pd.DataFrame(velocity_json[\"observations\"])\n",
    "velocity_df = velocity_df.drop([\"realtime_end\", \"realtime_start\"], axis=1)\n",
    "velocity_df = velocity_df.rename(index=str, columns={\"value\" : \"velocity\"})\n",
    "\n",
    "# Quandl data frame\n",
    "copper_df = pd.DataFrame(copper_json[\"dataset\"][\"data\"], columns = clean_copper_headers)\n",
    "\n",
    "# EIA data frame\n",
    "oil_inv_df = pd.DataFrame(oil_inv_json['series'][0]['data'], columns = ['date', 'oil_inv'])\n"
   ]
  },
  {
   "cell_type": "code",
   "execution_count": 6,
   "metadata": {},
   "outputs": [],
   "source": [
    "# FRED integer and datetime changer\n",
    "for index, row in consumer_df.iterrows():\n",
    "    row.date = dt.date.fromisoformat(row.date)\n",
    "    row.value = float(row.value)\n",
    "    \n",
    "for index, row in deficit_df.iterrows():\n",
    "    row.date = dt.date.fromisoformat(row.date)\n",
    "    row.deficit = float(row.deficit)\n",
    "    \n",
    "for index, row in velocity_df.iterrows():\n",
    "    row.date = dt.date.fromisoformat(row.date)\n",
    "    row.velocity = float(row.velocity)"
   ]
  },
  {
   "cell_type": "code",
   "execution_count": 7,
   "metadata": {},
   "outputs": [
    {
     "name": "stderr",
     "output_type": "stream",
     "text": [
      "C:\\ProgramData\\Anaconda3\\lib\\site-packages\\ipykernel_launcher.py:13: SettingWithCopyWarning: \n",
      "A value is trying to be set on a copy of a slice from a DataFrame\n",
      "\n",
      "See the caveats in the documentation: http://pandas.pydata.org/pandas-docs/stable/indexing.html#indexing-view-versus-copy\n",
      "  del sys.path[0]\n"
     ]
    }
   ],
   "source": [
    "# Quandl integer and datetime changer\n",
    "for index, row in copper_df.iterrows():\n",
    "    row.date = dt.date.fromisoformat(row.date)\n",
    "    mon = row.date.month\n",
    "    if mon >= 1 and mon <= 3:\n",
    "        mon = 1\n",
    "    elif mon >= 4 and mon <= 6:\n",
    "        mon = 4\n",
    "    elif mon >= 7 and mon <= 9:\n",
    "        mon = 7\n",
    "    elif mon >= 10 and mon <= 12:\n",
    "        mon = 10\n",
    "    copper_df.date[index] = row.date.replace(month = mon , day = 1)\n",
    "    \n",
    "copper_df = copper_df.groupby([\"date\"]).mean()\n",
    "copper_df = copper_df.reset_index()"
   ]
  },
  {
   "cell_type": "code",
   "execution_count": 8,
   "metadata": {},
   "outputs": [
    {
     "name": "stderr",
     "output_type": "stream",
     "text": [
      "C:\\ProgramData\\Anaconda3\\lib\\site-packages\\ipykernel_launcher.py:7: SettingWithCopyWarning: \n",
      "A value is trying to be set on a copy of a slice from a DataFrame\n",
      "\n",
      "See the caveats in the documentation: http://pandas.pydata.org/pandas-docs/stable/indexing.html#indexing-view-versus-copy\n",
      "  import sys\n"
     ]
    }
   ],
   "source": [
    "#EIA integer and datetime changer\n",
    "for index, row in oil_inv_df.iterrows():\n",
    "    date_list = list(str(row.date))\n",
    "    date_list.extend(list('-01-01'))\n",
    "    new_date = ''.join(date_list)\n",
    "    row.oil_inv = float(row.oil_inv)\n",
    "    oil_inv_df.date[index] = dt.date.fromisoformat(new_date)"
   ]
  },
  {
   "cell_type": "code",
   "execution_count": 9,
   "metadata": {},
   "outputs": [],
   "source": [
    "# Creating new df with quarterly data\n",
    "quarter_deficit_list = []\n",
    "for index, row in deficit_df.iterrows():\n",
    "    date = row.date\n",
    "    q1 = {\"date\" : date.replace(month = 1, day = 1), \"deficit\": row.deficit}\n",
    "    q2 = {\"date\" : date.replace(month = 4, day = 1), \"deficit\": row.deficit}\n",
    "    q3 = {\"date\" : date.replace(month = 7, day = 1), \"deficit\": row.deficit}\n",
    "    q4 = {\"date\" : date.replace(month = 10, day = 1), \"deficit\": row.deficit}\n",
    "    quarter_deficit_list.append(q1)\n",
    "    quarter_deficit_list.append(q2)\n",
    "    quarter_deficit_list.append(q3)\n",
    "    quarter_deficit_list.append(q4)\n",
    "quarter_deficit_df = pd.DataFrame(quarter_deficit_list)"
   ]
  },
  {
   "cell_type": "code",
   "execution_count": 10,
   "metadata": {
    "scrolled": true
   },
   "outputs": [],
   "source": [
    "# Creating new df with quarterly data\n",
    "quarter_oil_inv_list = []\n",
    "for index, row in oil_inv_df.iterrows():\n",
    "    date = row.date\n",
    "    q1 = {\"date\" : date.replace(month = 1, day = 1), \"oil_inv\": row.oil_inv}\n",
    "    q2 = {\"date\" : date.replace(month = 4, day = 1), \"oil_inv\": row.oil_inv}\n",
    "    q3 = {\"date\" : date.replace(month = 7, day = 1), \"oil_inv\": row.oil_inv}\n",
    "    q4 = {\"date\" : date.replace(month = 10, day = 1), \"oil_inv\": row.oil_inv}\n",
    "    quarter_oil_inv_list.append(q1)\n",
    "    quarter_oil_inv_list.append(q2)\n",
    "    quarter_oil_inv_list.append(q3)\n",
    "    quarter_oil_inv_list.append(q4)\n",
    "quarter_oil_inv_df = pd.DataFrame(quarter_oil_inv_list)"
   ]
  },
  {
   "cell_type": "code",
   "execution_count": 11,
   "metadata": {},
   "outputs": [
    {
     "data": {
      "text/html": [
       "<div>\n",
       "<style scoped>\n",
       "    .dataframe tbody tr th:only-of-type {\n",
       "        vertical-align: middle;\n",
       "    }\n",
       "\n",
       "    .dataframe tbody tr th {\n",
       "        vertical-align: top;\n",
       "    }\n",
       "\n",
       "    .dataframe thead th {\n",
       "        text-align: right;\n",
       "    }\n",
       "</style>\n",
       "<table border=\"1\" class=\"dataframe\">\n",
       "  <thead>\n",
       "    <tr style=\"text-align: right;\">\n",
       "      <th></th>\n",
       "      <th>date</th>\n",
       "      <th>consumer_sentiment</th>\n",
       "      <th>copper_price</th>\n",
       "      <th>deficit</th>\n",
       "      <th>velocity</th>\n",
       "      <th>oil_inv</th>\n",
       "    </tr>\n",
       "  </thead>\n",
       "  <tbody>\n",
       "    <tr>\n",
       "      <th>0</th>\n",
       "      <td>1959-10-01</td>\n",
       "      <td>93.8</td>\n",
       "      <td>0.331147</td>\n",
       "      <td>-12849.0</td>\n",
       "      <td>1.779</td>\n",
       "      <td>31719</td>\n",
       "    </tr>\n",
       "    <tr>\n",
       "      <th>1</th>\n",
       "      <td>1960-01-01</td>\n",
       "      <td>100</td>\n",
       "      <td>0.320317</td>\n",
       "      <td>301.0</td>\n",
       "      <td>1.817</td>\n",
       "      <td>31613</td>\n",
       "    </tr>\n",
       "    <tr>\n",
       "      <th>2</th>\n",
       "      <td>1960-04-01</td>\n",
       "      <td>93.3</td>\n",
       "      <td>0.311057</td>\n",
       "      <td>301.0</td>\n",
       "      <td>1.797</td>\n",
       "      <td>31613</td>\n",
       "    </tr>\n",
       "    <tr>\n",
       "      <th>3</th>\n",
       "      <td>1960-07-01</td>\n",
       "      <td>97.2</td>\n",
       "      <td>0.303747</td>\n",
       "      <td>301.0</td>\n",
       "      <td>1.78</td>\n",
       "      <td>31613</td>\n",
       "    </tr>\n",
       "    <tr>\n",
       "      <th>4</th>\n",
       "      <td>1960-10-01</td>\n",
       "      <td>90.1</td>\n",
       "      <td>0.282263</td>\n",
       "      <td>301.0</td>\n",
       "      <td>1.737</td>\n",
       "      <td>31613</td>\n",
       "    </tr>\n",
       "  </tbody>\n",
       "</table>\n",
       "</div>"
      ],
      "text/plain": [
       "         date consumer_sentiment  copper_price  deficit velocity  oil_inv\n",
       "0  1959-10-01               93.8      0.331147 -12849.0    1.779    31719\n",
       "1  1960-01-01                100      0.320317    301.0    1.817    31613\n",
       "2  1960-04-01               93.3      0.311057    301.0    1.797    31613\n",
       "3  1960-07-01               97.2      0.303747    301.0     1.78    31613\n",
       "4  1960-10-01               90.1      0.282263    301.0    1.737    31613"
      ]
     },
     "execution_count": 11,
     "metadata": {},
     "output_type": "execute_result"
    }
   ],
   "source": [
    "combined_df = consumer_df.merge(copper_df, on=\"date\")\n",
    "combined_df = combined_df.drop(['open', 'high', 'low', 'last', 'change', 'volume', \"previous_day_open_interest\"], axis=1)\n",
    "combined_df = combined_df.rename(index=str, columns={\"value\": \"consumer_sentiment\", \"settle\": \"copper_price\"})\n",
    "combined_df = combined_df.merge(quarter_deficit_df, on=\"date\")\n",
    "combined_df = combined_df.merge(velocity_df, on=\"date\")\n",
    "combined_df = combined_df.merge(quarter_oil_inv_df, on=\"date\")\n",
    "combined_df.head()"
   ]
  },
  {
   "cell_type": "code",
   "execution_count": 14,
   "metadata": {},
   "outputs": [],
   "source": [
    "combined_df.to_csv(path_or_buf='combined_df.csv',index=False)"
   ]
  },
  {
   "cell_type": "code",
   "execution_count": null,
   "metadata": {},
   "outputs": [],
   "source": [
    "combined_df.plot(x=\"date\",y=\"consumer_sentiment\", kind=\"line\", figsize=(30,10))"
   ]
  },
  {
   "cell_type": "code",
   "execution_count": null,
   "metadata": {},
   "outputs": [],
   "source": [
    "combined_df.plot(x=\"date\", y=\"copper_price\", kind=\"line\", figsize=(30,10))"
   ]
  },
  {
   "cell_type": "code",
   "execution_count": null,
   "metadata": {},
   "outputs": [],
   "source": [
    "combined_df.plot(x=\"date\", y=\"deficit\", kind=\"line\", figsize=(30,10))"
   ]
  },
  {
   "cell_type": "code",
   "execution_count": null,
   "metadata": {},
   "outputs": [],
   "source": [
    "combined_df.plot(x=\"date\", y=\"velocity\", kind=\"line\", figsize=(30,10))"
   ]
  },
  {
   "cell_type": "code",
   "execution_count": null,
   "metadata": {},
   "outputs": [],
   "source": [
    "combined_df.plot(x=\"date\", y=\"oil_inv\", kind=\"line\", figsize=(30,10))"
   ]
  },
  {
   "cell_type": "code",
   "execution_count": null,
   "metadata": {},
   "outputs": [],
   "source": []
  }
 ],
 "metadata": {
  "kernelspec": {
   "display_name": "Python 3",
   "language": "python",
   "name": "python3"
  },
  "language_info": {
   "codemirror_mode": {
    "name": "ipython",
    "version": 3
   },
   "file_extension": ".py",
   "mimetype": "text/x-python",
   "name": "python",
   "nbconvert_exporter": "python",
   "pygments_lexer": "ipython3",
   "version": "3.7.1"
  }
 },
 "nbformat": 4,
 "nbformat_minor": 2
}
